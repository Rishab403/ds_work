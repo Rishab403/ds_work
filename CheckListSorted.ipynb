{
 "cells": [
  {
   "cell_type": "code",
   "execution_count": 3,
   "id": "270b7721",
   "metadata": {},
   "outputs": [],
   "source": [
    "def isSorted(a):\n",
    "    l = len(a)\n",
    "    if l==0 or l==1: \n",
    "        return True\n",
    "    if a[0]> a[1]:\n",
    "        return False\n",
    "    \n",
    "    smallerlist = a[1:]\n",
    "    isSmallerListSorted = isSorted(smallerlist)\n",
    "    if isSmallerListSorted:\n",
    "        return True\n",
    "    else:\n",
    "        return False"
   ]
  },
  {
   "cell_type": "code",
   "execution_count": null,
   "id": "df5db327",
   "metadata": {},
   "outputs": [],
   "source": [
    "def isSortedBetter (a, si):\n",
    "    l = len(a)\n",
    "    if si == l-1 or si==1:\n",
    "        return True\n",
    "    if a[si] > a[si+1]:\n",
    "        return False\n",
    "    isSmallerPartSorted = isSortedBetter (a,si +1)"
   ]
  },
  {
   "cell_type": "code",
   "execution_count": 5,
   "id": "cedc958e",
   "metadata": {},
   "outputs": [
    {
     "data": {
      "text/plain": [
       "False"
      ]
     },
     "execution_count": 5,
     "metadata": {},
     "output_type": "execute_result"
    }
   ],
   "source": [
    "a=[1,2,30,4,5,5,6,8]\n",
    "isSorted(a)"
   ]
  },
  {
   "cell_type": "code",
   "execution_count": 14,
   "id": "385f52ed",
   "metadata": {},
   "outputs": [
    {
     "name": "stdout",
     "output_type": "stream",
     "text": [
      "3\n",
      "989\n",
      "989\n"
     ]
    }
   ],
   "source": [
    "#Exercise Given an array of length N, you need to find and return the sum of all elements of the array.\n",
    "\n",
    "def sumArray(arr):\n",
    "    n= len(arr)\n",
    "    if n==1:\n",
    "        return arr[0]\n",
    "    smallarr = sumArray(arr[:n-1])\n",
    "    return smallarr+ arr[n-1]\n",
    "    \n",
    "    \n",
    "from sys import setrecursionlimit\n",
    "setrecursionlimit(11000)\n",
    "n=int(input())\n",
    "arr = list(int(i) for i in input().strip().split(' '))\n",
    "print(sumArray(arr)) "
   ]
  },
  {
   "cell_type": "code",
   "execution_count": 18,
   "id": "b18ac6e3",
   "metadata": {},
   "outputs": [
    {
     "name": "stdout",
     "output_type": "stream",
     "text": [
      "8\n",
      "8 9 10\n",
      "9\n",
      "false\n"
     ]
    }
   ],
   "source": [
    "#Given an array of length N and an integer x, you need to find if x is present in the array or not. Return true or false.\n",
    "\n",
    "def checkNumber(arr, n):\n",
    "    if len(arr)==0:\n",
    "        return\n",
    "    if arr[0]==n:\n",
    "        return True\n",
    "    else:\n",
    "        checkNumber(arr[1:],n)\n",
    "        \n",
    "from sys import setrecursionlimit\n",
    "setrecursionlimit(11000)\n",
    "n=int(input())\n",
    "arr= list(int(i) for i in input().strip().split(' '))\n",
    "x=int(input())\n",
    "if checkNumber(arr,x):\n",
    "    print ('true')\n",
    "else:\n",
    "    print ('false')"
   ]
  },
  {
   "cell_type": "code",
   "execution_count": null,
   "id": "ec2ec74e",
   "metadata": {},
   "outputs": [],
   "source": []
  }
 ],
 "metadata": {
  "kernelspec": {
   "display_name": "Python 3 (ipykernel)",
   "language": "python",
   "name": "python3"
  },
  "language_info": {
   "codemirror_mode": {
    "name": "ipython",
    "version": 3
   },
   "file_extension": ".py",
   "mimetype": "text/x-python",
   "name": "python",
   "nbconvert_exporter": "python",
   "pygments_lexer": "ipython3",
   "version": "3.8.8"
  }
 },
 "nbformat": 4,
 "nbformat_minor": 5
}
